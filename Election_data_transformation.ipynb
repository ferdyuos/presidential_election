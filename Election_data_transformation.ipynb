{
 "cells": [
  {
   "cell_type": "code",
   "execution_count": 1,
   "id": "3530fcd9",
   "metadata": {},
   "outputs": [],
   "source": [
    "# Import libraries\n",
    "import glob\n",
    "import pandas as pd"
   ]
  },
  {
   "cell_type": "code",
   "execution_count": 2,
   "id": "5f054579",
   "metadata": {},
   "outputs": [],
   "source": [
    "path = '/Users/ladi/Desktop/My data science/Election_data_csv_file'\n",
    "csv_files = glob.glob(path + \"/*.csv\")"
   ]
  },
  {
   "cell_type": "code",
   "execution_count": 3,
   "id": "c9e0cdfd",
   "metadata": {},
   "outputs": [],
   "source": [
    "# Read each state collation CSV file into DataFrame\n",
    "# This creates a list of dataframes\n",
    "df_list = (pd.read_csv(file) for file in csv_files)"
   ]
  },
  {
   "cell_type": "code",
   "execution_count": 4,
   "id": "9aa7a490",
   "metadata": {},
   "outputs": [],
   "source": [
    "# Concatenate all DataFrames\n",
    "Election_2023 = pd.concat(df_list, ignore_index=True)"
   ]
  },
  {
   "cell_type": "code",
   "execution_count": 5,
   "id": "67ef4ff3",
   "metadata": {},
   "outputs": [
    {
     "name": "stdout",
     "output_type": "stream",
     "text": [
      "<class 'pandas.core.frame.DataFrame'>\n",
      "RangeIndex: 123918 entries, 0 to 123917\n",
      "Data columns (total 19 columns):\n",
      " #   Column                  Non-Null Count   Dtype \n",
      "---  ------                  --------------   ----- \n",
      " 0   State                   123918 non-null  object\n",
      " 1   LGA                     123918 non-null  object\n",
      " 2   Ward                    123918 non-null  object\n",
      " 3   PU-Code                 123918 non-null  object\n",
      " 4   PU-Name                 123918 non-null  object\n",
      " 5   Accredited_Voters       123918 non-null  int64 \n",
      " 6   Registered_Voters       123918 non-null  int64 \n",
      " 7   Results_Found           123918 non-null  bool  \n",
      " 8   Transcription_Count     123918 non-null  int64 \n",
      " 9   Result_Sheet_Stamped    123918 non-null  bool  \n",
      " 10  Result_Sheet_Corrected  123918 non-null  bool  \n",
      " 11  Result_Sheet_Invalid    123918 non-null  bool  \n",
      " 12  Result_Sheet_Unclear    123918 non-null  bool  \n",
      " 13  Result_Sheet_Unsigned   123918 non-null  object\n",
      " 14  APC                     123918 non-null  int64 \n",
      " 15  LP                      123918 non-null  int64 \n",
      " 16  PDP                     123918 non-null  int64 \n",
      " 17  NNPP                    123918 non-null  int64 \n",
      " 18  Results_File            123918 non-null  object\n",
      "dtypes: bool(5), int64(7), object(7)\n",
      "memory usage: 13.8+ MB\n"
     ]
    },
    {
     "data": {
      "text/html": [
       "<div>\n",
       "<style scoped>\n",
       "    .dataframe tbody tr th:only-of-type {\n",
       "        vertical-align: middle;\n",
       "    }\n",
       "\n",
       "    .dataframe tbody tr th {\n",
       "        vertical-align: top;\n",
       "    }\n",
       "\n",
       "    .dataframe thead th {\n",
       "        text-align: right;\n",
       "    }\n",
       "</style>\n",
       "<table border=\"1\" class=\"dataframe\">\n",
       "  <thead>\n",
       "    <tr style=\"text-align: right;\">\n",
       "      <th></th>\n",
       "      <th>Accredited_Voters</th>\n",
       "      <th>Registered_Voters</th>\n",
       "      <th>Transcription_Count</th>\n",
       "      <th>APC</th>\n",
       "      <th>LP</th>\n",
       "      <th>PDP</th>\n",
       "      <th>NNPP</th>\n",
       "    </tr>\n",
       "  </thead>\n",
       "  <tbody>\n",
       "    <tr>\n",
       "      <th>count</th>\n",
       "      <td>123918.000000</td>\n",
       "      <td>123918.000000</td>\n",
       "      <td>123918.0</td>\n",
       "      <td>123918.000000</td>\n",
       "      <td>123918.000000</td>\n",
       "      <td>123918.000000</td>\n",
       "      <td>123918.000000</td>\n",
       "    </tr>\n",
       "    <tr>\n",
       "      <th>mean</th>\n",
       "      <td>140.777442</td>\n",
       "      <td>526.360973</td>\n",
       "      <td>-1.0</td>\n",
       "      <td>47.844744</td>\n",
       "      <td>38.179498</td>\n",
       "      <td>36.760874</td>\n",
       "      <td>8.223543</td>\n",
       "    </tr>\n",
       "    <tr>\n",
       "      <th>std</th>\n",
       "      <td>93.986952</td>\n",
       "      <td>352.823973</td>\n",
       "      <td>0.0</td>\n",
       "      <td>50.082543</td>\n",
       "      <td>60.925200</td>\n",
       "      <td>45.702998</td>\n",
       "      <td>27.515300</td>\n",
       "    </tr>\n",
       "    <tr>\n",
       "      <th>min</th>\n",
       "      <td>0.000000</td>\n",
       "      <td>0.000000</td>\n",
       "      <td>-1.0</td>\n",
       "      <td>0.000000</td>\n",
       "      <td>0.000000</td>\n",
       "      <td>0.000000</td>\n",
       "      <td>0.000000</td>\n",
       "    </tr>\n",
       "    <tr>\n",
       "      <th>25%</th>\n",
       "      <td>69.000000</td>\n",
       "      <td>258.000000</td>\n",
       "      <td>-1.0</td>\n",
       "      <td>8.000000</td>\n",
       "      <td>0.000000</td>\n",
       "      <td>4.000000</td>\n",
       "      <td>0.000000</td>\n",
       "    </tr>\n",
       "    <tr>\n",
       "      <th>50%</th>\n",
       "      <td>129.000000</td>\n",
       "      <td>522.000000</td>\n",
       "      <td>-1.0</td>\n",
       "      <td>33.000000</td>\n",
       "      <td>11.000000</td>\n",
       "      <td>19.000000</td>\n",
       "      <td>0.000000</td>\n",
       "    </tr>\n",
       "    <tr>\n",
       "      <th>75%</th>\n",
       "      <td>198.000000</td>\n",
       "      <td>750.000000</td>\n",
       "      <td>-1.0</td>\n",
       "      <td>73.000000</td>\n",
       "      <td>52.000000</td>\n",
       "      <td>54.000000</td>\n",
       "      <td>2.000000</td>\n",
       "    </tr>\n",
       "    <tr>\n",
       "      <th>max</th>\n",
       "      <td>1939.000000</td>\n",
       "      <td>11512.000000</td>\n",
       "      <td>-1.0</td>\n",
       "      <td>600.000000</td>\n",
       "      <td>600.000000</td>\n",
       "      <td>573.000000</td>\n",
       "      <td>587.000000</td>\n",
       "    </tr>\n",
       "  </tbody>\n",
       "</table>\n",
       "</div>"
      ],
      "text/plain": [
       "       Accredited_Voters  Registered_Voters  Transcription_Count  \\\n",
       "count      123918.000000      123918.000000             123918.0   \n",
       "mean          140.777442         526.360973                 -1.0   \n",
       "std            93.986952         352.823973                  0.0   \n",
       "min             0.000000           0.000000                 -1.0   \n",
       "25%            69.000000         258.000000                 -1.0   \n",
       "50%           129.000000         522.000000                 -1.0   \n",
       "75%           198.000000         750.000000                 -1.0   \n",
       "max          1939.000000       11512.000000                 -1.0   \n",
       "\n",
       "                 APC             LP            PDP           NNPP  \n",
       "count  123918.000000  123918.000000  123918.000000  123918.000000  \n",
       "mean       47.844744      38.179498      36.760874       8.223543  \n",
       "std        50.082543      60.925200      45.702998      27.515300  \n",
       "min         0.000000       0.000000       0.000000       0.000000  \n",
       "25%         8.000000       0.000000       4.000000       0.000000  \n",
       "50%        33.000000      11.000000      19.000000       0.000000  \n",
       "75%        73.000000      52.000000      54.000000       2.000000  \n",
       "max       600.000000     600.000000     573.000000     587.000000  "
      ]
     },
     "execution_count": 5,
     "metadata": {},
     "output_type": "execute_result"
    }
   ],
   "source": [
    "Election_2023.info()\n",
    "Election_2023.describe()"
   ]
  },
  {
   "cell_type": "code",
   "execution_count": 6,
   "id": "3526970b",
   "metadata": {},
   "outputs": [
    {
     "data": {
      "text/html": [
       "<div>\n",
       "<style scoped>\n",
       "    .dataframe tbody tr th:only-of-type {\n",
       "        vertical-align: middle;\n",
       "    }\n",
       "\n",
       "    .dataframe tbody tr th {\n",
       "        vertical-align: top;\n",
       "    }\n",
       "\n",
       "    .dataframe thead th {\n",
       "        text-align: right;\n",
       "    }\n",
       "</style>\n",
       "<table border=\"1\" class=\"dataframe\">\n",
       "  <thead>\n",
       "    <tr style=\"text-align: right;\">\n",
       "      <th></th>\n",
       "      <th>State</th>\n",
       "      <th>LGA</th>\n",
       "      <th>Ward</th>\n",
       "      <th>PU-Code</th>\n",
       "      <th>PU-Name</th>\n",
       "      <th>Result_Sheet_Unsigned</th>\n",
       "      <th>Results_File</th>\n",
       "    </tr>\n",
       "  </thead>\n",
       "  <tbody>\n",
       "    <tr>\n",
       "      <th>count</th>\n",
       "      <td>123918</td>\n",
       "      <td>123918</td>\n",
       "      <td>123918</td>\n",
       "      <td>123918</td>\n",
       "      <td>123918</td>\n",
       "      <td>123918</td>\n",
       "      <td>123918</td>\n",
       "    </tr>\n",
       "    <tr>\n",
       "      <th>unique</th>\n",
       "      <td>37</td>\n",
       "      <td>764</td>\n",
       "      <td>7718</td>\n",
       "      <td>123918</td>\n",
       "      <td>118204</td>\n",
       "      <td>1</td>\n",
       "      <td>120455</td>\n",
       "    </tr>\n",
       "    <tr>\n",
       "      <th>top</th>\n",
       "      <td>LAGOS</td>\n",
       "      <td>ALIMOSHO</td>\n",
       "      <td>KARU</td>\n",
       "      <td>05-17-07-006</td>\n",
       "      <td>CENTRAL SCHOOL I</td>\n",
       "      <td>UNKNOWN</td>\n",
       "      <td>https://docs.inecelectionresults.net/elections...</td>\n",
       "    </tr>\n",
       "    <tr>\n",
       "      <th>freq</th>\n",
       "      <td>11911</td>\n",
       "      <td>1375</td>\n",
       "      <td>247</td>\n",
       "      <td>1</td>\n",
       "      <td>26</td>\n",
       "      <td>123918</td>\n",
       "      <td>18</td>\n",
       "    </tr>\n",
       "  </tbody>\n",
       "</table>\n",
       "</div>"
      ],
      "text/plain": [
       "         State       LGA    Ward       PU-Code           PU-Name  \\\n",
       "count   123918    123918  123918        123918            123918   \n",
       "unique      37       764    7718        123918            118204   \n",
       "top      LAGOS  ALIMOSHO    KARU  05-17-07-006  CENTRAL SCHOOL I   \n",
       "freq     11911      1375     247             1                26   \n",
       "\n",
       "       Result_Sheet_Unsigned  \\\n",
       "count                 123918   \n",
       "unique                     1   \n",
       "top                  UNKNOWN   \n",
       "freq                  123918   \n",
       "\n",
       "                                             Results_File  \n",
       "count                                              123918  \n",
       "unique                                             120455  \n",
       "top     https://docs.inecelectionresults.net/elections...  \n",
       "freq                                                   18  "
      ]
     },
     "execution_count": 6,
     "metadata": {},
     "output_type": "execute_result"
    }
   ],
   "source": [
    "Election_2023.describe(include='object')"
   ]
  },
  {
   "cell_type": "code",
   "execution_count": 7,
   "id": "f00d9848",
   "metadata": {},
   "outputs": [
    {
     "data": {
      "text/plain": [
       "array(['EBONYI', 'KADUNA', 'ENUGU', 'ADAMAWA', 'ANAMBRA', 'FCT', 'GOMBE',\n",
       "       'EKITI', 'CROSS RIVER', 'JIGAWA', 'NASARAWA', 'IMO', 'YOBE',\n",
       "       'BAYELSA', 'EDO', 'KWARA', 'OYO', 'NIGER', 'TARABA', 'KOGI',\n",
       "       'ONDO', 'LAGOS', 'ZAMFARA', 'BORNO', 'ABIA', 'BENUE', 'KEBBI',\n",
       "       'RIVERS', 'AKWA IBOM', 'OSUN', 'BAUCHI', 'KATSINA', 'OGUN',\n",
       "       'SOKOTO', 'DELTA', 'PLATEAU', 'KANO'], dtype=object)"
      ]
     },
     "execution_count": 7,
     "metadata": {},
     "output_type": "execute_result"
    }
   ],
   "source": [
    "Election_2023.State.unique()\n"
   ]
  },
  {
   "cell_type": "code",
   "execution_count": 13,
   "id": "1f731330",
   "metadata": {},
   "outputs": [
    {
     "data": {
      "text/plain": [
       "123918"
      ]
     },
     "execution_count": 13,
     "metadata": {},
     "output_type": "execute_result"
    }
   ],
   "source": [
    "Election_2023.State.nunique()\n"
   ]
  },
  {
   "cell_type": "code",
   "execution_count": 14,
   "id": "2fa8ead9",
   "metadata": {},
   "outputs": [
    {
     "data": {
      "text/plain": [
       "123918"
      ]
     },
     "execution_count": 14,
     "metadata": {},
     "output_type": "execute_result"
    }
   ],
   "source": [
    "# count of polling units\n",
    "Election_2023['PU-Code'].nunique()"
   ]
  },
  {
   "cell_type": "code",
   "execution_count": 9,
   "id": "20a73558",
   "metadata": {},
   "outputs": [
    {
     "data": {
      "text/plain": [
       "State                     0\n",
       "LGA                       0\n",
       "Ward                      0\n",
       "PU-Code                   0\n",
       "PU-Name                   0\n",
       "Accredited_Voters         0\n",
       "Registered_Voters         0\n",
       "Results_Found             0\n",
       "Transcription_Count       0\n",
       "Result_Sheet_Stamped      0\n",
       "Result_Sheet_Corrected    0\n",
       "Result_Sheet_Invalid      0\n",
       "Result_Sheet_Unclear      0\n",
       "Result_Sheet_Unsigned     0\n",
       "APC                       0\n",
       "LP                        0\n",
       "PDP                       0\n",
       "NNPP                      0\n",
       "Results_File              0\n",
       "dtype: int64"
      ]
     },
     "execution_count": 9,
     "metadata": {},
     "output_type": "execute_result"
    }
   ],
   "source": [
    "# checking for null values\n",
    "\n",
    "Election_2023.isnull().sum()"
   ]
  },
  {
   "cell_type": "code",
   "execution_count": 10,
   "id": "6c57fb36",
   "metadata": {},
   "outputs": [],
   "source": [
    "# write merged files into a new csv\n",
    "Election_2023.to_csv(\"presidential_election_data.csv\", index=False)\n"
   ]
  },
  {
   "cell_type": "code",
   "execution_count": null,
   "id": "b6820a31",
   "metadata": {},
   "outputs": [],
   "source": []
  }
 ],
 "metadata": {
  "kernelspec": {
   "display_name": "Python 3",
   "language": "python",
   "name": "python3"
  },
  "language_info": {
   "codemirror_mode": {
    "name": "ipython",
    "version": 3
   },
   "file_extension": ".py",
   "mimetype": "text/x-python",
   "name": "python",
   "nbconvert_exporter": "python",
   "pygments_lexer": "ipython3",
   "version": "3.8.8"
  }
 },
 "nbformat": 4,
 "nbformat_minor": 5
}
